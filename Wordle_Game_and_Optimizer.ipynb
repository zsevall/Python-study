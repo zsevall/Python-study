{
  "nbformat": 4,
  "nbformat_minor": 0,
  "metadata": {
    "colab": {
      "provenance": []
    },
    "kernelspec": {
      "name": "python3",
      "display_name": "Python 3"
    },
    "language_info": {
      "name": "python"
    }
  },
  "cells": [
    {
      "cell_type": "markdown",
      "source": [
        "# lets play WORDLE GAME"
      ],
      "metadata": {
        "id": "fOiW24lgq1qy"
      }
    },
    {
      "cell_type": "code",
      "execution_count": 1,
      "metadata": {
        "id": "GmXmE2mEDUvq"
      },
      "outputs": [],
      "source": [
        "from IPython.display import HTML, display\n",
        "import requests\n",
        "import random\n",
        "import time"
      ]
    },
    {
      "cell_type": "code",
      "execution_count": 2,
      "metadata": {
        "colab": {
          "base_uri": "https://localhost:8080/"
        },
        "id": "q8j1Y-jnFk5N",
        "outputId": "124f5fe5-bfff-4f09-9b57-e46049460cdc"
      },
      "outputs": [
        {
          "output_type": "stream",
          "name": "stdout",
          "text": [
            "File successfully downloaded to /content/words.txt\n"
          ]
        }
      ],
      "source": [
        "class ColorString:\n",
        "    def __init__(self, text=\"\"):\n",
        "        self.parts = []\n",
        "        if text:\n",
        "            self.parts.append(f'<span>{text}</span> ')\n",
        "\n",
        "    def add_text(self, text):\n",
        "        self.parts.append(f'<span>{text}</span> ')\n",
        "\n",
        "    def add_yellow(self, text):\n",
        "        self.parts.append(f'<span style=\"color:gold;\">{text}</span> ')\n",
        "\n",
        "    def add_green(self, text):\n",
        "        self.parts.append(f'<span style=\"color:green;\">{text}</span> ')\n",
        "\n",
        "    def __str__(self):\n",
        "        \"\"\"\n",
        "        String olarak döndürülebilir. Renklendirme olmadan birleşmiş metin döner.\n",
        "        \"\"\"\n",
        "        return \"\".join(part.strip('<span>').strip('</span>') for part in self.parts)\n",
        "\n",
        "    def _repr_html_(self):\n",
        "        \"\"\"\n",
        "        Jupyter Notebook'ta HTML olarak gösterim sağlar.\n",
        "        \"\"\"\n",
        "        return \"\".join(self.parts)\n",
        "\n",
        "def print_secret_word(guess,secretWord):\n",
        "    printword=ColorString('')\n",
        "    for letter in range(len(guess)):\n",
        "        if guess[letter] not in secretWord:\n",
        "            printword.add_text(guess[letter])\n",
        "        elif guess[letter]!=secretWord[letter]:\n",
        "            printword.add_yellow(guess[letter])\n",
        "        else:\n",
        "            printword.add_green(guess[letter])\n",
        "    display(printword)\n",
        "\n",
        "\n",
        "\n",
        "def download_file_from_drive(file_url, colab_path):\n",
        "    if \"drive.google.com\" in file_url:\n",
        "        file_id = file_url.split('/d/')[1].split('/')[0]\n",
        "        download_url = f\"https://drive.google.com/uc?export=download&id={file_id}\"\n",
        "    else:\n",
        "        raise ValueError(\"The provided URL is not a valid Google Drive link.\")\n",
        "\n",
        "    response = requests.get(download_url, stream=True)\n",
        "\n",
        "    if response.status_code == 200:\n",
        "        with open(colab_path, 'wb') as file:\n",
        "            for chunk in response.iter_content(chunk_size=1024):\n",
        "                if chunk:\n",
        "                    file.write(chunk)\n",
        "        print(f\"File successfully downloaded to {colab_path}\")\n",
        "    else:\n",
        "        raise Exception(\"Failed to download the file. Check the URL or file permissions.\")\n",
        "\n",
        "colab_path = \"/content/words.txt\"\n",
        "file_url = \"https://drive.google.com/file/d/1cjCZ-5uAHVFLXLV6HuSM98_QblWaXrBZ/view?usp=share_link\"\n",
        "download_file_from_drive(file_url,colab_path)\n",
        "\n",
        "\n",
        "\n",
        "WORDLIST_FILENAME = \"words.txt\"\n",
        "\n",
        "def load_words():\n",
        "\n",
        "  inFile = open(WORDLIST_FILENAME, 'r')\n",
        "  line = inFile.readline()\n",
        "  wordlist = line.split()\n",
        "  print(\"  \", len(wordlist), \"words loaded.\")\n",
        "  return wordlist\n",
        "\n",
        "\n",
        "\n",
        "\n",
        "def word_select():\n",
        "  #You will use this function to generate a random word while solving the problem, this function returns a random word.\n",
        "  return random.choice(word_list)\n"
      ]
    },
    {
      "cell_type": "code",
      "execution_count": 3,
      "metadata": {
        "colab": {
          "base_uri": "https://localhost:8080/"
        },
        "id": "PEzxiEO0KtHw",
        "outputId": "54c44b61-59c7-455d-d6b5-e05e24f744a8"
      },
      "outputs": [
        {
          "output_type": "stream",
          "name": "stdout",
          "text": [
            "   55900 words loaded.\n",
            "horned\n"
          ]
        }
      ],
      "source": [
        "\n",
        "word_list=load_words()\n",
        "#Here is word_list, the list containing all English words, I will not delete it because you will use it in your problem. You can use it with this name whenever you need it.\n",
        "egword=word_select()\n",
        "print(egword)\n"
      ]
    },
    {
      "cell_type": "code",
      "execution_count": 4,
      "metadata": {
        "id": "SmrQcOxCD6-E"
      },
      "outputs": [],
      "source": [
        "\n",
        "def isvalid(guess,secretWord):\n",
        "    if guess not in word_list:\n",
        "        return False\n",
        "    if len(secretWord)!=len(guess):\n",
        "      return False\n",
        "    return True\n",
        "\n",
        "\n",
        "\n",
        "\n",
        "def point_calculate(word,right):\n",
        "    return len(word)*right\n",
        "\n",
        "\n",
        "\n",
        "def guess_control(guess,word):\n",
        "    if guess==word:\n",
        "        return True\n",
        "    else:\n",
        "      return False\n",
        "\n",
        "\n",
        "def print_length_of_secretWord(secretWord):\n",
        "  print(f'Secret word have {len(secretWord)} letter')\n"
      ]
    },
    {
      "cell_type": "code",
      "execution_count": 5,
      "metadata": {
        "id": "91Wt4kVsD9xU"
      },
      "outputs": [],
      "source": [
        "def wordle():\n",
        "    secretWord=word_select()\n",
        "    print(secretWord)\n",
        "    right=len(secretWord)\n",
        "    print_length_of_secretWord(secretWord)\n",
        "    while True:\n",
        "        time.sleep(1)\n",
        "        guess=input('Enter your guess:')\n",
        "        if guess=='q':\n",
        "          print(f'game over\\nWord was: {secretWord}')\n",
        "          break\n",
        "        if isvalid(guess,secretWord):\n",
        "          if guess_control(guess,secretWord):\n",
        "            print(f'You found the word congrats!!!\\nYour point is: {point_calculate(secretWord,right)}')\n",
        "            break\n",
        "          right-=1\n",
        "          if right==0:\n",
        "            print(f'Failed!!! You have no more rights\\nWord was: {secretWord}')\n",
        "            break\n",
        "          print(f'You have {right} right to guess')\n",
        "          print_secret_word(guess,secretWord)\n",
        "          print('wordle')\n",
        "          continue\n",
        "\n",
        "        else:\n",
        "          print(f'Please enter a valid word...\\nYou have {right} right to guess')\n"
      ]
    },
    {
      "cell_type": "code",
      "source": [
        "wordle()"
      ],
      "metadata": {
        "colab": {
          "base_uri": "https://localhost:8080/",
          "height": 399
        },
        "id": "BGP_zDhOrHjE",
        "outputId": "fcf090af-2d0e-4b18-9df2-6d2c1ce3728b"
      },
      "execution_count": 6,
      "outputs": [
        {
          "output_type": "stream",
          "name": "stdout",
          "text": [
            "whipsaws\n",
            "Secret word have 8 letter\n",
            "Enter your guess:astronot\n",
            "Please enter a valid word...\n",
            "You have 8 right to guess\n",
            "Enter your guess:dementia\n",
            "You have 7 right to guess\n"
          ]
        },
        {
          "output_type": "display_data",
          "data": {
            "text/plain": [
              "<__main__.ColorString at 0x794977182e30>"
            ],
            "text/html": [
              "<span>d</span> <span>e</span> <span>m</span> <span>e</span> <span>n</span> <span>t</span> <span style=\"color:gold;\">i</span> <span style=\"color:gold;\">a</span> "
            ]
          },
          "metadata": {}
        },
        {
          "output_type": "stream",
          "name": "stdout",
          "text": [
            "wordle\n",
            "Enter your guess:whipsees\n",
            "Please enter a valid word...\n",
            "You have 7 right to guess\n",
            "Enter your guess:airfrier\n",
            "Please enter a valid word...\n",
            "You have 7 right to guess\n",
            "Enter your guess:airlines\n",
            "You have 6 right to guess\n"
          ]
        },
        {
          "output_type": "display_data",
          "data": {
            "text/plain": [
              "<__main__.ColorString at 0x794977183400>"
            ],
            "text/html": [
              "<span style=\"color:gold;\">a</span> <span style=\"color:gold;\">i</span> <span>r</span> <span>l</span> <span style=\"color:gold;\">i</span> <span>n</span> <span>e</span> <span style=\"color:green;\">s</span> "
            ]
          },
          "metadata": {}
        },
        {
          "output_type": "stream",
          "name": "stdout",
          "text": [
            "wordle\n",
            "Enter your guess:whipsaws\n",
            "You found the word congrats!!!\n",
            "Your point is: 48\n"
          ]
        }
      ]
    },
    {
      "cell_type": "markdown",
      "source": [
        "# Lets now build wordle solver"
      ],
      "metadata": {
        "id": "K10iQa2tr3PA"
      }
    },
    {
      "cell_type": "code",
      "source": [
        "def word_select(wordlist):\n",
        "    return random.choice(wordlist)"
      ],
      "metadata": {
        "id": "sHOVARhj3KqM"
      },
      "execution_count": 7,
      "outputs": []
    },
    {
      "cell_type": "code",
      "source": [
        "def updatelist1(guess, secretWord):\n",
        "    matches = []  # Correct letters in correct positions\n",
        "    i = 0         # Initialize index\n",
        "    while i < len(secretWord):\n",
        "        if guess[i] == secretWord[i]:  # if the letters match\n",
        "            matches.append([guess[i], i])  # Save the letter and its position\n",
        "        i += 1  # Move to the next index\n",
        "    return matches"
      ],
      "metadata": {
        "id": "-V--SlMIVYKR"
      },
      "execution_count": 8,
      "outputs": []
    },
    {
      "cell_type": "code",
      "source": [
        "def updatelist2(guess, secretWord, list1):\n",
        "    wrong_positions = []  # letters in wrong position\n",
        "    used_spots = []      # spots we already used\n",
        "\n",
        "    # Remember used spots from list1\n",
        "    i = 0\n",
        "    while i < len(list1):\n",
        "        used_spots.append(list1[i][1])\n",
        "        i += 1\n",
        "\n",
        "    # Look at each letter in our guess\n",
        "    i = 0\n",
        "    while i < len(guess):\n",
        "        # Skip if we already used this spot\n",
        "        if i not in used_spots:\n",
        "            letter = guess[i]\n",
        "            # Look for this letter in secret word\n",
        "            j = 0\n",
        "            while j < len(secretWord):\n",
        "                # If we find the letter and spot isn't used\n",
        "                if letter == secretWord[j] and j not in used_spots:\n",
        "                    # Remember letter and its wrong spot\n",
        "                    wrong_positions.append([letter, i])\n",
        "                    used_spots.append(j)\n",
        "                    break\n",
        "                j += 1\n",
        "        i += 1\n",
        "\n",
        "    return wrong_positions"
      ],
      "metadata": {
        "id": "zWmOe805VWBW"
      },
      "execution_count": 9,
      "outputs": []
    },
    {
      "cell_type": "code",
      "source": [
        "def updatelist3(guess, secretWord, list1, list2):\n",
        "    wrong_letters = []   # letters not in word\n",
        "    right_letters = []   # letters we got right\n",
        "\n",
        "    # Remember letters we got right\n",
        "    i = 0\n",
        "    while i < len(list1):\n",
        "        right_letters.append(list1[i][0])\n",
        "        i += 1\n",
        "\n",
        "    i = 0\n",
        "    while i < len(list2):\n",
        "        right_letters.append(list2[i][0])\n",
        "        i += 1\n",
        "\n",
        "    # Check each letter in guess\n",
        "    i = 0\n",
        "    while i < len(guess):\n",
        "        letter = guess[i]\n",
        "        # If letter isn't in secret word and we haven't found it yet\n",
        "        if letter not in secretWord and letter not in wrong_letters:\n",
        "            wrong_letters.append(letter)\n",
        "        # If letter is in word but we found too many of it\n",
        "        elif letter not in right_letters and letter not in wrong_letters:\n",
        "            wrong_letters.append(letter)\n",
        "        i += 1\n",
        "\n",
        "    return wrong_letters"
      ],
      "metadata": {
        "id": "0hmbrgS-VfSl"
      },
      "execution_count": 10,
      "outputs": []
    },
    {
      "cell_type": "code",
      "source": [
        "def cleanwordlist(wordlist, secretWord):\n",
        "    # Make a new empty list for words with same length\n",
        "    cleaned_list = []\n",
        "    for word in wordlist:\n",
        "        if len(word) == len(secretWord):\n",
        "            cleaned_list.append(word)\n",
        "    return cleaned_list"
      ],
      "metadata": {
        "id": "rtUWAjEyboXB"
      },
      "execution_count": 12,
      "outputs": []
    },
    {
      "cell_type": "code",
      "source": [
        "def wordle(guess,secretWord):\n",
        "  \"\"\"\n",
        "  Compare a guess with secretWord and return three lists:\n",
        "    - list1: Correct letters in correct positions\n",
        "    - list2: Correct letters in wrong positions\n",
        "    - list3: Letters not in word\n",
        "  \"\"\"\n",
        "  # Get feedback about the guess using our helper functions\n",
        "  list1 = updatelist1(guess, secretWord)\n",
        "  list2 = updatelist2(guess, secretWord, list1)\n",
        "  list3 = updatelist3(guess, secretWord, list1, list2)\n",
        "\n",
        "  return list1, list2, list3"
      ],
      "metadata": {
        "id": "eFwj1-2YAH53"
      },
      "execution_count": 13,
      "outputs": []
    },
    {
      "cell_type": "code",
      "source": [
        "def generate_guess(wordlist, list1, list2, list3, secretWord):\n",
        "    possible_words = cleanwordlist(wordlist, secretWord)  # list of words with matching length\n",
        "    newguess_words = []  # words that pass our checks\n",
        "\n",
        "    # Check each possible word\n",
        "    for word in possible_words:\n",
        "        # Assume word is good until we prove it's not\n",
        "        keeptheword = True\n",
        "\n",
        "        # Check list1 (right letters, right spots)\n",
        "        for item in list1:\n",
        "            letter = item[0]    # Get the letter\n",
        "            position = item[1]  # Get its position\n",
        "            if word[position] != letter:\n",
        "                keeptheword = False\n",
        "                break\n",
        "\n",
        "        # If word failed list1 check, try next word\n",
        "        if not keeptheword:\n",
        "            continue\n",
        "\n",
        "        # Check list2 (right letters, wrong spots)\n",
        "        for item in list2:\n",
        "            letter = item[0]           # Get the letter\n",
        "            wrong_position = item[1]   # Get position where it shouldn't be\n",
        "            if letter not in word or word[wrong_position] == letter:\n",
        "                keeptheword = False\n",
        "                break\n",
        "\n",
        "        # If word failed list2 check, try next word\n",
        "        if not keeptheword:\n",
        "            continue\n",
        "\n",
        "        # Check list3 (wrong letters)\n",
        "        for wrong_letter in list3:\n",
        "            if wrong_letter in word:  # If this wrong letter appears in word\n",
        "                keeptheword = False\n",
        "                break\n",
        "\n",
        "        # If word passed all checks, add it to newguess_words list\n",
        "        if keeptheword:\n",
        "            newguess_words.append(word)\n",
        "\n",
        "    # Return a random newguess_word if we found any\n",
        "    if newguess_words:\n",
        "        return word_select(newguess_words)\n",
        "    return None"
      ],
      "metadata": {
        "id": "dkFdqZ88BJkA"
      },
      "execution_count": 14,
      "outputs": []
    },
    {
      "cell_type": "code",
      "source": [
        "def optimize_wordle():\n",
        "    # Load words and pick secret word\n",
        "    wordlist = load_words()\n",
        "    secretWord = word_select(wordlist)\n",
        "\n",
        "    print(\"\\nSecretword is:\", secretWord)\n",
        "    print(\"\\nComputer will try to find this word...\")\n",
        "\n",
        "    # To Keep track of guesses\n",
        "    attempts = 0\n",
        "    guessed_words = []\n",
        "\n",
        "    # Store what we learn from each guess\n",
        "    correct = []     # right letter, right spot / use of list1\n",
        "    misplaced = []   # right letter, wrong spot / use of list2\n",
        "    wrong = []       # wrong letters / use of list3\n",
        "\n",
        "    while True:\n",
        "        # For first guess, just pick any random word with same length\n",
        "        if attempts == 0:\n",
        "            guess = word_select(cleanwordlist(wordlist, secretWord))\n",
        "        # For later guesses, use what we learned so far\n",
        "        else:\n",
        "            guess = generate_guess(wordlist, correct, misplaced, wrong, secretWord)\n",
        "\n",
        "        attempts += 1\n",
        "        guessed_words.append(guess)\n",
        "\n",
        "        print(\"\\nComputer's guess is:\", guess)\n",
        "\n",
        "        # If we found the word, we're done\n",
        "        if guess == secretWord:\n",
        "            print(\"\\nThe computer guessed the word in\", attempts, \"attempts.\")\n",
        "            print(\"List of computer's guesses:\", guessed_words)\n",
        "            return attempts\n",
        "\n",
        "        else:\n",
        "            # Get feedback about our guess\n",
        "            correct, misplaced, wrong = wordle(guess, secretWord)\n",
        "\n",
        "# Run Main Function\n",
        "optimize_wordle()"
      ],
      "metadata": {
        "id": "YvPuc-4aCxfz",
        "colab": {
          "base_uri": "https://localhost:8080/"
        },
        "outputId": "3390dd87-afda-4d31-ac81-e74bdf2aaebd"
      },
      "execution_count": 15,
      "outputs": [
        {
          "output_type": "stream",
          "name": "stdout",
          "text": [
            "   55900 words loaded.\n",
            "\n",
            "Secretword is: jimmy\n",
            "\n",
            "Computer will try to find this word...\n",
            "\n",
            "Computer's guess is: pomps\n",
            "\n",
            "Computer's guess is: nimbi\n",
            "\n",
            "Computer's guess is: pimps\n",
            "\n",
            "Computer's guess is: aimed\n",
            "\n",
            "Computer's guess is: nimbi\n",
            "\n",
            "Computer's guess is: rimed\n",
            "\n",
            "Computer's guess is: limns\n",
            "\n",
            "Computer's guess is: timer\n",
            "\n",
            "Computer's guess is: pimas\n",
            "\n",
            "Computer's guess is: mimed\n",
            "\n",
            "Computer's guess is: limps\n",
            "\n",
            "Computer's guess is: mimic\n",
            "\n",
            "Computer's guess is: gimpy\n",
            "\n",
            "Computer's guess is: jimmy\n",
            "\n",
            "The computer guessed the word in 14 attempts.\n",
            "List of computer's guesses: ['pomps', 'nimbi', 'pimps', 'aimed', 'nimbi', 'rimed', 'limns', 'timer', 'pimas', 'mimed', 'limps', 'mimic', 'gimpy', 'jimmy']\n"
          ]
        },
        {
          "output_type": "execute_result",
          "data": {
            "text/plain": [
              "14"
            ]
          },
          "metadata": {},
          "execution_count": 15
        }
      ]
    }
  ]
}